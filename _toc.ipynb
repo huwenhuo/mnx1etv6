{
 "cells": [
  {
   "cell_type": "markdown",
   "id": "de4b877c-66fb-4490-949f-154facf0623a",
   "metadata": {},
   "source": [
    "# [ChiP-Seq analysis of K562 cells with MNX1 and/or ETV6 gene expression](./notebook/nb_Mar05_ChIP_python.ipynb)"
   ]
  },
  {
   "cell_type": "markdown",
   "id": "a72733be-43cc-45e1-b2dc-5760a487ba14",
   "metadata": {},
   "source": [
    "- DiffBind was used to identify differentially bound peaks"
   ]
  },
  {
   "cell_type": "markdown",
   "id": "ebefc54d-f25b-4b73-877e-27a4347fcb67",
   "metadata": {},
   "source": [
    "# [fetal liver cells RNASeq analysis with MNX1 and/or ETO genes](notebook/nb_rnaseq_mar25.ipynb)"
   ]
  },
  {
   "cell_type": "markdown",
   "id": "7b83163e-b2f5-4dd2-b3e1-a90b29fa601e",
   "metadata": {},
   "source": [
    "- this is RNAseq analysis of MNX1 or MNX1 fusion gene expression in FL or adult BM cells"
   ]
  },
  {
   "cell_type": "markdown",
   "id": "a474816c-265b-431e-a8be-59f9674ff3af",
   "metadata": {},
   "source": [
    "# [St. Jude pAML 887 cases RNASeq analysis](./notebook/nb_clin_AML_mar21.ipynb)"
   ]
  },
  {
   "cell_type": "markdown",
   "id": "1fbf4e93-e2ad-493c-b3ab-bc9e089e11db",
   "metadata": {},
   "source": [
    "- Analyzed the MNX1-ETV6 fusion subtype using gene expression data from the St. Jude pAML cohort.\n"
   ]
  },
  {
   "cell_type": "markdown",
   "id": "aac6919d-7e78-47e7-808b-f6c182c12f1e",
   "metadata": {},
   "source": [
    "# [bigger cohort of TARGET data with more MNX1 mutated patients](notebook/nb_RNASeq_Combined_pAML_TARGET_Apr9.ipynb)"
   ]
  },
  {
   "cell_type": "markdown",
   "id": "767ae486-a851-4b72-bebf-aaebb4fce1f1",
   "metadata": {},
   "source": [
    "- more pAML RNA-Seq data from GDC TARGET "
   ]
  },
  {
   "cell_type": "markdown",
   "id": "df2f7860-905f-403b-93b8-86388e0c58df",
   "metadata": {},
   "source": [
    "# [clinical sample RNASeq of TARGET / St. Jude 892 cases](notebook/nb_TARGET_Jude_MNX1.ipynb)"
   ]
  },
  {
   "cell_type": "markdown",
   "id": "f95ac289-e242-44d0-a92b-37f9b05b47f6",
   "metadata": {},
   "source": [
    "- [old version: clinical sample RNASeq of TARGET / St. Jude 892 cases](notebook/nb_RNASeq_Combined_pAML_TARGET_Apr23.ipynb)\n",
    "- Break point analysis for MNX1-ETV6 fusion subtypes based on STAR-fusion and Arriba pipeline\n"
   ]
  }
 ],
 "metadata": {
  "kernelspec": {
   "display_name": "mar25R",
   "language": "R",
   "name": "mar25r"
  },
  "language_info": {
   "codemirror_mode": "r",
   "file_extension": ".r",
   "mimetype": "text/x-r-source",
   "name": "R",
   "pygments_lexer": "r",
   "version": "4.3.3"
  }
 },
 "nbformat": 4,
 "nbformat_minor": 5
}
