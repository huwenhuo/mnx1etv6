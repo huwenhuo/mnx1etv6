{
 "cells": [
  {
   "cell_type": "markdown",
   "id": "de4b877c-66fb-4490-949f-154facf0623a",
   "metadata": {},
   "source": [
    "# [RNASeq analysis of K562 cells with MNX1 and/or ETV6 gene expression](./notebook/nb_Mar05_ChIP_python.ipynb)"
   ]
  },
  {
   "cell_type": "markdown",
   "id": "ebefc54d-f25b-4b73-877e-27a4347fcb67",
   "metadata": {},
   "source": [
    "# [fetal liver cells RNASeq analysis with MNX1 and/or ETO genes](notebook/nb_rnaseq_mar25.ipynb)"
   ]
  },
  {
   "cell_type": "markdown",
   "id": "a474816c-265b-431e-a8be-59f9674ff3af",
   "metadata": {},
   "source": [
    "# [St. Jude pAML 887 cases RNASeq analysis](./notebook/nb_clin_AML_mar21.ipynb)"
   ]
  },
  {
   "cell_type": "markdown",
   "id": "1fbf4e93-e2ad-493c-b3ab-bc9e089e11db",
   "metadata": {},
   "source": [
    "- BCAT1 expression \n",
    "- St Jude data share_data\n",
    "    - /research_jude/rgs01_jude/groups/jxugrp/home/common/Lab_Members/WenhuoHu/share_data"
   ]
  },
  {
   "cell_type": "markdown",
   "id": "aac6919d-7e78-47e7-808b-f6c182c12f1e",
   "metadata": {},
   "source": [
    "# [bigger cohort of TARGET data with more MNX1 mutated patients](notebook/nb_RNASeq_Combined_pAML_TARGET_Apr9.ipynb)"
   ]
  },
  {
   "cell_type": "markdown",
   "id": "df2f7860-905f-403b-93b8-86388e0c58df",
   "metadata": {},
   "source": [
    "# [clinical sample RNASeq of TARGET / St. Jude 892 cases](notebook/nb_TARGET_Jude_MNX1.ipynb)\n",
    "- [old version: clinical sample RNASeq of TARGET / St. Jude 892 cases](notebook/nb_RNASeq_Combined_pAML_TARGET_Apr23.ipynb)"
   ]
  },
  {
   "cell_type": "code",
   "execution_count": null,
   "id": "1f06498f-9387-4e16-8727-37f090034727",
   "metadata": {},
   "outputs": [],
   "source": [
    "cp ~/script/BisiWang/nb_Mar05_ChIP_python.ipynb notebook/\n",
    "cp ~/script/BisiWang/nb_rnaseq_mar25.ipynb notebook/ \n",
    "cp ~/script/BisiWang/nb_clin_AML_mar21.ipynb notebook/ \n",
    "cp ~/script/BisiWang/nb_RNASeq_Combined_pAML_TARGET_Apr9.ipynb notebook/ \n",
    "cp ~/script/BisiWang/nb_TARGET_Jude_MNX1.ipynb notebook/ \n",
    "cp ~/script/BisiWang/nb_RNASeq_Combined_pAML_TARGET_Apr23.ipynb notebook/ "
   ]
  }
 ],
 "metadata": {
  "kernelspec": {
   "display_name": "mar25R",
   "language": "R",
   "name": "mar25r"
  },
  "language_info": {
   "codemirror_mode": "r",
   "file_extension": ".r",
   "mimetype": "text/x-r-source",
   "name": "R",
   "pygments_lexer": "r",
   "version": "4.3.3"
  }
 },
 "nbformat": 4,
 "nbformat_minor": 5
}
